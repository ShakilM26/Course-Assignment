{
 "cells": [
  {
   "cell_type": "code",
   "execution_count": null,
   "id": "3682d9b5",
   "metadata": {},
   "outputs": [],
   "source": [
    "def hours_to_mins(hours):\n",
    "    if hours > 0:\n",
    "        minutes = hours * 60\n",
    "        return minutes\n",
    "    else:\n",
    "        pass\n",
    "\n",
    "hour_value = 5\n",
    "total_minutes = hours_to_mins(hour_value)\n",
    "print(total_minutes)"
   ]
  },
  {
   "cell_type": "code",
   "execution_count": null,
   "id": "9f4b061b",
   "metadata": {},
   "outputs": [],
   "source": []
  },
  {
   "cell_type": "code",
   "execution_count": null,
   "id": "ba91e2d6",
   "metadata": {},
   "outputs": [],
   "source": []
  }
 ],
 "metadata": {
  "kernelspec": {
   "display_name": "Python 3 (ipykernel)",
   "language": "python",
   "name": "python3"
  },
  "language_info": {
   "codemirror_mode": {
    "name": "ipython",
    "version": 3
   },
   "file_extension": ".py",
   "mimetype": "text/x-python",
   "name": "python",
   "nbconvert_exporter": "python",
   "pygments_lexer": "ipython3",
   "version": "3.10.9"
  }
 },
 "nbformat": 4,
 "nbformat_minor": 5
}
