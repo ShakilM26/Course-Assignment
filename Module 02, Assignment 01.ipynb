{
 "cells": [
  {
   "cell_type": "code",
   "execution_count": 1,
   "id": "0c794588",
   "metadata": {},
   "outputs": [],
   "source": [
    "original_list = [1, 5, 6, 5, 1, 2, 3]\n",
    "\n",
    "duplicate_list = []"
   ]
  },
  {
   "cell_type": "code",
   "execution_count": 2,
   "id": "e7b15fe2",
   "metadata": {},
   "outputs": [
    {
     "name": "stdout",
     "output_type": "stream",
     "text": [
      "[1, 5]\n"
     ]
    }
   ],
   "source": [
    "for i in original_list:\n",
    "    if original_list.count(i) > 1: # if the value appear more than 1 then it is a duplicate value\n",
    "        if i not in duplicate_list:\n",
    "            duplicate_list.append(i)\n",
    "print(duplicate_list)"
   ]
  },
  {
   "cell_type": "code",
   "execution_count": null,
   "id": "9fdc05a1",
   "metadata": {},
   "outputs": [],
   "source": []
  },
  {
   "cell_type": "code",
   "execution_count": null,
   "id": "e68f197a",
   "metadata": {},
   "outputs": [],
   "source": []
  }
 ],
 "metadata": {
  "kernelspec": {
   "display_name": "Python 3 (ipykernel)",
   "language": "python",
   "name": "python3"
  },
  "language_info": {
   "codemirror_mode": {
    "name": "ipython",
    "version": 3
   },
   "file_extension": ".py",
   "mimetype": "text/x-python",
   "name": "python",
   "nbconvert_exporter": "python",
   "pygments_lexer": "ipython3",
   "version": "3.10.9"
  }
 },
 "nbformat": 4,
 "nbformat_minor": 5
}
